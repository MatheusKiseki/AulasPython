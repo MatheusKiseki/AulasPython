{
 "cells": [
  {
   "cell_type": "code",
   "execution_count": null,
   "metadata": {},
   "outputs": [],
   "source": [
    "#Exercicio 1\n",
    "dicionario = {'Fotepá': {'local': 'Patente'}}\n",
    "print(dicionario)                         "
   ]
  },
  {
   "cell_type": "code",
   "execution_count": null,
   "metadata": {},
   "outputs": [],
   "source": [
    "#Exercicio 2\n",
    "dicionario = {'Fotepá': {'local': 'Patente'}}\n",
    "nome = input('Digite seu nome')\n",
    "local = input('Digite seu local, de preferencia sua cidade.')\n",
    "dicionario[nome] = {'local': local}\n",
    "print(dicionario)"
   ]
  },
  {
   "cell_type": "code",
   "execution_count": null,
   "metadata": {},
   "outputs": [],
   "source": [
    "#Exercicio 3\n",
    "dicionario = {}\n",
    "nome = input('Digite seu nome')\n",
    "formacao = input('Voce é formado em que?')\n",
    "salario = float(input('Digite seu salario'))\n",
    "cpf = int(input('Digite seu cpf sem pontos ou virgulas.'))\n",
    "dicionario[cpf] = {'nome': nome, 'formação': formacao, 'salário': salario}\n",
    "print(dicionario)"
   ]
  },
  {
   "cell_type": "code",
   "execution_count": null,
   "metadata": {},
   "outputs": [],
   "source": [
    "#Exercicio 4\n",
    "dicionario = {'Cidades': {'Wakanda': False, 'São Paulo': True, 'Sokóvia': False, 'Rio de Janeiro': True}}\n",
    "print(dicionario)"
   ]
  }
 ],
 "metadata": {
  "kernelspec": {
   "display_name": "Python 3",
   "language": "python",
   "name": "python3"
  },
  "language_info": {
   "codemirror_mode": {
    "name": "ipython",
    "version": 3
   },
   "file_extension": ".py",
   "mimetype": "text/x-python",
   "name": "python",
   "nbconvert_exporter": "python",
   "pygments_lexer": "ipython3",
   "version": "3.7.6"
  }
 },
 "nbformat": 4,
 "nbformat_minor": 4
}

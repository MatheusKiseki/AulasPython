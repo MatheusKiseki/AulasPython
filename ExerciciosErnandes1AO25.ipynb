{
 "cells": [
  {
   "cell_type": "code",
   "execution_count": 1,
   "metadata": {},
   "outputs": [],
   "source": [
    "# Os exercícios estão em ordem de células, cada célula corresponde a 1 exercício, do 1 ao 5 dos primeiro 5 tópicos da lista de exércicios solicitada."
   ]
  },
  {
   "cell_type": "code",
   "execution_count": 2,
   "metadata": {},
   "outputs": [
    {
     "name": "stdout",
     "output_type": "stream",
     "text": [
      "Olá mundo\n"
     ]
    }
   ],
   "source": [
    "print ('Olá mundo')"
   ]
  },
  {
   "cell_type": "code",
   "execution_count": 3,
   "metadata": {},
   "outputs": [
    {
     "name": "stdout",
     "output_type": "stream",
     "text": [
      "Insira um número8\n",
      "o numero informado foi 8\n"
     ]
    }
   ],
   "source": [
    "numeropedido = input (\"Insira um número\")\n",
    "print ('o numero informado foi ' + numeropedido)"
   ]
  },
  {
   "cell_type": "code",
   "execution_count": 4,
   "metadata": {},
   "outputs": [
    {
     "name": "stdout",
     "output_type": "stream",
     "text": [
      "Insira o primeiro numero da soma5\n",
      "Insira o segundo numero da soma3\n",
      "8\n"
     ]
    }
   ],
   "source": [
    "num1 = input('Insira o primeiro numero da soma')\n",
    "num2 = input('Insira o segundo numero da soma')\n",
    "resultado =  int (num1)+  int(num2)\n",
    "print (resultado)"
   ]
  },
  {
   "cell_type": "code",
   "execution_count": 5,
   "metadata": {},
   "outputs": [
    {
     "name": "stdout",
     "output_type": "stream",
     "text": [
      "Insira a primeira nota5\n",
      "Insira a segunda nota5\n",
      "Insira a terceira nota5\n",
      "Insira a quarta nota5\n",
      "5.0\n"
     ]
    }
   ],
   "source": [
    "num1 = input ('Insira a primeira nota')\n",
    "num2 = input ('Insira a segunda nota')\n",
    "num3 = input ('Insira a terceira nota')\n",
    "num4 = input ('Insira a quarta nota')\n",
    "resultado =  (int (num1)+  int(num2) + int(num3) + int (num4))/4\n",
    "print (resultado)"
   ]
  },
  {
   "cell_type": "code",
   "execution_count": 1,
   "metadata": {},
   "outputs": [
    {
     "name": "stdout",
     "output_type": "stream",
     "text": [
      "Insira o numero de metros2\n",
      "o numero em centimetros será 200.0 centimetros\n"
     ]
    }
   ],
   "source": [
    "metros = float (input('Insira o numero de metros'))\n",
    "centimetros = metros * 100\n",
    "print  ('o numero em centimetros será ' +  str (centimetros) + ' centimetros')"
   ]
  },
  {
   "cell_type": "code",
   "execution_count": 2,
   "metadata": {},
   "outputs": [
    {
     "name": "stdout",
     "output_type": "stream",
     "text": [
      "Insira o primeiro numero8\n",
      "Insira o segundo numero5\n",
      "O maior numero é o primeiro\n"
     ]
    }
   ],
   "source": [
    "num1 = input('Insira o primeiro numero')\n",
    "num2 = input ('Insira o segundo numero')\n",
    "if num1 < num2:\n",
    "    print ('O maior numero é o segundo')\n",
    "else:\n",
    "    print('O maior numero é o primeiro')\n"
   ]
  },
  {
   "cell_type": "code",
   "execution_count": 3,
   "metadata": {},
   "outputs": [
    {
     "name": "stdout",
     "output_type": "stream",
     "text": [
      "Insira um numero, lembrando que ele pode ser negativo-5\n",
      "O valor é negativo\n"
     ]
    }
   ],
   "source": [
    "num = int(input('Insira um numero, lembrando que ele pode ser negativo'))\n",
    "if num > 0:\n",
    "    print ('O valor é positivo')\n",
    "else:\n",
    "    print (\"O valor é negativo\")"
   ]
  },
  {
   "cell_type": "code",
   "execution_count": 4,
   "metadata": {},
   "outputs": [
    {
     "name": "stdout",
     "output_type": "stream",
     "text": [
      "voce é F ou M?M\n",
      "Voce é Masculino\n"
     ]
    }
   ],
   "source": [
    "sexo = input('voce é F ou M?')\n",
    "if sexo == 'F':\n",
    "    print ('voce é Feminina')\n",
    "elif sexo == 'M':\n",
    "    print('Voce é Masculino')\n",
    "else:\n",
    "    print('Sexo inválido')"
   ]
  },
  {
   "cell_type": "code",
   "execution_count": null,
   "metadata": {},
   "outputs": [],
   "source": [
    "letra = input('Insira uma letra')\n",
    "if letra.lower() not in ['a', 'e', 'i', 'o', 'u']:\n",
    "    print ('Sua letra é consoante')\n",
    "else:\n",
    "    print ('Sua letra é uma vogal')    "
   ]
  },
  {
   "cell_type": "code",
   "execution_count": 6,
   "metadata": {},
   "outputs": [
    {
     "name": "stdout",
     "output_type": "stream",
     "text": [
      "Insira sua primeira nota parcial8\n",
      "Insira sua segunda nota parcial6\n",
      "Voce foi aprovado\n"
     ]
    }
   ],
   "source": [
    "nota1 = int(input(\"Insira sua primeira nota parcial\"))\n",
    "nota2 = int(input(\"Insira sua segunda nota parcial\"))\n",
    "resultado = (nota1 + nota2)/2\n",
    "if resultado >= 7 and resultado < 10:\n",
    "    print ('Voce foi aprovado')\n",
    "elif resultado == 10:\n",
    "    print ('Voce foi aprovado com Distinção')\n",
    "else:\n",
    "    print('Voce foi reprovado')"
   ]
  },
  {
   "cell_type": "code",
   "execution_count": 7,
   "metadata": {},
   "outputs": [
    {
     "name": "stdout",
     "output_type": "stream",
     "text": [
      "Coloque uma nota entre 0 e 1010\n",
      "10\n"
     ]
    }
   ],
   "source": [
    "while True:\n",
    "    nota = int(input('Coloque uma nota entre 0 e 10'))\n",
    "    if nota > 0 and nota <= 10:\n",
    "        break\n",
    "    print ('Numero invalido')\n",
    "print (nota)"
   ]
  },
  {
   "cell_type": "code",
   "execution_count": 8,
   "metadata": {},
   "outputs": [
    {
     "name": "stdout",
     "output_type": "stream",
     "text": [
      "Digite o seu usuáriojota\n",
      "Digite sua senhajotinha\n",
      "Seu usuário e senha procedem\n"
     ]
    }
   ],
   "source": [
    "usuario = input('Digite o seu usuário')\n",
    "senha = input('Digite sua senha')\n",
    "\n",
    "while usuario == senha:\n",
    "    print('Voce colocou um usuario igual a sua senha ')\n",
    "    usuario = input('Digite o seu usuário')\n",
    "    senha = input ('Digite sua senha')\n",
    "print('Seu usuário e senha procedem') "
   ]
  },
  {
   "cell_type": "code",
   "execution_count": 9,
   "metadata": {},
   "outputs": [
    {
     "name": "stdout",
     "output_type": "stream",
     "text": [
      "Digite seu nomezeca\n",
      "Digite sua idade119\n",
      "Digite seu salário2000\n",
      "Digite se voce é f ou mm\n",
      "Digite se voce é s, c, v , ds\n",
      "Voce está autorizado a entrar\n"
     ]
    }
   ],
   "source": [
    "nome = input('Digite seu nome')\n",
    "idade = int(input('Digite sua idade'))\n",
    "salario = int(input('Digite seu salário'))\n",
    "sexo = input('Digite se voce é f ou m')\n",
    "estadocivil= input('Digite se voce é s, c, v , d')\n",
    "\n",
    "if len(nome) > 3 and 0 < idade < 150 and salario > 0 and sexo in ['f', 'm'] and estadocivil in ['s', 'c', 'v', 'd']:\n",
    "    print('Voce está autorizado a entrar')\n",
    "else:\n",
    "    print('Você não está autorizado')  "
   ]
  },
  {
   "cell_type": "code",
   "execution_count": 10,
   "metadata": {},
   "outputs": [
    {
     "name": "stdout",
     "output_type": "stream",
     "text": [
      "A população A passará a população B em 63 anos\n"
     ]
    }
   ],
   "source": [
    "popa = 80000 \n",
    "popb = 200000\n",
    "anos = 0\n",
    "while popa < popb:\n",
    "    popa = popa + popa*0.03\n",
    "    popb = popb + popb*0.015\n",
    "    anos = anos + 1\n",
    "print ('A população A passará a população B em {} anos'.format(anos))"
   ]
  },
  {
   "cell_type": "code",
   "execution_count": 1,
   "metadata": {},
   "outputs": [
    {
     "name": "stdout",
     "output_type": "stream",
     "text": [
      "Digite o número da população A10\n",
      "Digite o numero da população B100\n",
      "Digite a Taxa de crescimento anual da população A (ela tem que ser maior que a taxa b)3\n",
      "Digite a Taxa de crescimento anual da população B2\n",
      "A população A passará a população B em 9 anos\n"
     ]
    }
   ],
   "source": [
    "def isfloat(value):\n",
    "    try:\n",
    "        float(value)\n",
    "        return True\n",
    "    except ValueError:\n",
    "        return False\n",
    "\n",
    "popa = input('Digite o número da população A')\n",
    "popb = input('Digite o numero da população B')\n",
    "taxaa = input('Digite a Taxa de crescimento anual da população A (ela tem que ser maior que a taxa b)')\n",
    "taxab = input('Digite a Taxa de crescimento anual da população B')\n",
    "anos = 0\n",
    "\n",
    "if popa.isdigit() and popb.isdigit() and isfloat(taxaa) and isfloat(taxab): \n",
    "    popa = int(popa)\n",
    "    popb = int(popb)\n",
    "    taxaa = float(taxaa)\n",
    "    taxab = float(taxab)\n",
    "    while popa < popb:\n",
    "        popa = popa + popa*taxaa\n",
    "        popb = popb + popb*taxab      \n",
    "        anos = anos + 1\n",
    "    print ('A população A passará a população B em {} anos'.format(anos))"
   ]
  },
  {
   "cell_type": "code",
   "execution_count": 2,
   "metadata": {},
   "outputs": [
    {
     "name": "stdout",
     "output_type": "stream",
     "text": [
      "[1, 2, 3, 4, 5]\n"
     ]
    }
   ],
   "source": [
    "lista = [1, 2, 3, 4, 5]\n",
    "print(lista)"
   ]
  },
  {
   "cell_type": "code",
   "execution_count": 3,
   "metadata": {},
   "outputs": [
    {
     "name": "stdout",
     "output_type": "stream",
     "text": [
      "[10, 9, 8, 7, 6, 5, 4, 3, 2, 1]\n"
     ]
    }
   ],
   "source": [
    "lista = [1, 2, 3, 4, 5, 6 , 7 , 8, 9, 10]\n",
    "lista.sort(reverse = True)\n",
    "print(lista)"
   ]
  },
  {
   "cell_type": "code",
   "execution_count": 4,
   "metadata": {},
   "outputs": [
    {
     "name": "stdout",
     "output_type": "stream",
     "text": [
      "Digite sua primeira nota5\n",
      "Digite sua segunda nota5\n",
      "Digite sua terceira nota5\n",
      "Digite sua quarta nota5\n",
      "5\n",
      "5\n",
      "5\n",
      "5\n",
      "5.0\n"
     ]
    }
   ],
   "source": [
    "nota1 = int(input('Digite sua primeira nota'))\n",
    "nota2 = int(input('Digite sua segunda nota'))\n",
    "nota3 = int(input('Digite sua terceira nota'))\n",
    "nota4 = int(input('Digite sua quarta nota'))\n",
    "media = (nota1 + nota2 + nota3 + nota4)/4\n",
    "print(nota1)\n",
    "print(nota2)\n",
    "print(nota3)\n",
    "print(nota4)\n",
    "print(media)"
   ]
  },
  {
   "cell_type": "code",
   "execution_count": 5,
   "metadata": {},
   "outputs": [
    {
     "name": "stdout",
     "output_type": "stream",
     "text": [
      "b\n",
      "c\n",
      "d\n",
      "f\n",
      "j\n",
      "k\n",
      "l\n",
      "m\n"
     ]
    }
   ],
   "source": [
    "letras = [\"a\", 'b', 'c', 'd', 'e', 'f', 'j', 'k', 'l', 'm']\n",
    "for letra in letras:\n",
    "    if letra not in ['a', 'e', 'i', 'o', 'u']:\n",
    "        print(letra)"
   ]
  },
  {
   "cell_type": "code",
   "execution_count": 6,
   "metadata": {},
   "outputs": [
    {
     "name": "stdout",
     "output_type": "stream",
     "text": [
      "[1, 2, 3, 4, 5, 6, 7, 8, 9, 10, 11, 12, 13, 14, 15, 16, 17, 18, 19, 20]\n",
      "[2, 4, 6, 8, 10, 12, 14, 16, 18, 20]\n",
      "[1, 3, 5, 7, 9, 11, 13, 15, 17, 19]\n"
     ]
    }
   ],
   "source": [
    "numeros = [1, 2, 3, 4, 5, 6, 7, 8, 9, 10 , 11, 12, 13, 14, 15, 16, 17, 18, 19, 20]\n",
    "par = []\n",
    "impar = []\n",
    "for numero in numeros:\n",
    "    if numero%2 == 0:\n",
    "        par.append(numero)\n",
    "    else:\n",
    "        impar.append(numero)\n",
    "print(numeros)\n",
    "print(par)\n",
    "print(impar)"
   ]
  },
  {
   "cell_type": "code",
   "execution_count": 7,
   "metadata": {},
   "outputs": [
    {
     "name": "stdout",
     "output_type": "stream",
     "text": [
      "Digite um número qualquer8\n",
      "8\n",
      "8\n",
      "8\n",
      "8\n",
      "8\n",
      "8\n",
      "8\n",
      "8\n"
     ]
    }
   ],
   "source": [
    "def mostra(num, counter=0):\n",
    "    if counter < num:\n",
    "        print(num)\n",
    "        return mostra(num, counter+1)\n",
    "numusuario = int(input('Digite um número qualquer'))\n",
    "mostra(numusuario)"
   ]
  },
  {
   "cell_type": "code",
   "execution_count": 8,
   "metadata": {},
   "outputs": [
    {
     "name": "stdout",
     "output_type": "stream",
     "text": [
      "Digite um número qualquer8\n",
      "1\n",
      "2\n",
      "3\n",
      "4\n",
      "5\n",
      "6\n",
      "7\n",
      "8\n"
     ]
    }
   ],
   "source": [
    "def mostra(num, counter=1):\n",
    "    if counter <= num:\n",
    "        print(counter)\n",
    "        return mostra(num, counter+1)\n",
    "numusuario = int(input('Digite um número qualquer'))\n",
    "mostra(numusuario)"
   ]
  },
  {
   "cell_type": "code",
   "execution_count": 9,
   "metadata": {},
   "outputs": [
    {
     "name": "stdout",
     "output_type": "stream",
     "text": [
      "Digite o primeiro numero5\n",
      "Digite o segundo numero5\n",
      "Digite o terceiro numero5\n",
      "15\n"
     ]
    }
   ],
   "source": [
    "def soma(arg1, arg2, arg3):\n",
    "    print(arg1+arg2+arg3)\n",
    "numero1 = int(input('Digite o primeiro numero'))\n",
    "numero2 = int(input('Digite o segundo numero'))\n",
    "numero3 = int(input('Digite o terceiro numero'))\n",
    "soma(numero1, numero2, numero3)"
   ]
  },
  {
   "cell_type": "code",
   "execution_count": 14,
   "metadata": {},
   "outputs": [
    {
     "name": "stdout",
     "output_type": "stream",
     "text": [
      "p\n"
     ]
    }
   ],
   "source": [
    "def func(num):\n",
    "    if num > 0:\n",
    "        return 'p'\n",
    "    else:\n",
    "        return 'n'\n",
    "print(func(1))"
   ]
  },
  {
   "cell_type": "code",
   "execution_count": 13,
   "metadata": {},
   "outputs": [
    {
     "name": "stdout",
     "output_type": "stream",
     "text": [
      "9.0\n"
     ]
    }
   ],
   "source": [
    "def somaImposto(taxaImposto,custo):\n",
    "    return custo+(custo*(taxaImposto/100))\n",
    "print (somaImposto(50, 6))"
   ]
  },
  {
   "cell_type": "code",
   "execution_count": null,
   "metadata": {},
   "outputs": [],
   "source": []
  }
 ],
 "metadata": {
  "kernelspec": {
   "display_name": "Python 3",
   "language": "python",
   "name": "python3"
  },
  "language_info": {
   "codemirror_mode": {
    "name": "ipython",
    "version": 3
   },
   "file_extension": ".py",
   "mimetype": "text/x-python",
   "name": "python",
   "nbconvert_exporter": "python",
   "pygments_lexer": "ipython3",
   "version": "3.7.6"
  }
 },
 "nbformat": 4,
 "nbformat_minor": 4
}

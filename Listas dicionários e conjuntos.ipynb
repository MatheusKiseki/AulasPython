{
 "cells": [
  {
   "cell_type": "code",
   "execution_count": null,
   "metadata": {
    "scrolled": true
   },
   "outputs": [],
   "source": [
    "lista = [0, 1, 2]\n",
    "print(lista)\n",
    "#print(dir(lista))\n",
    "\n",
    "lista.append(3)\n",
    "print(lista)\n",
    "\n",
    "lista.pop()\n",
    "print(lista)\n",
    "\n",
    "print(lista[1])"
   ]
  },
  {
   "cell_type": "code",
   "execution_count": 1,
   "metadata": {},
   "outputs": [
    {
     "name": "stdout",
     "output_type": "stream",
     "text": [
      "{'braguinha': {'altura': 1.75, 'idade': 18}, 'Matheus': {'altura': 1.72, 'idade': 18}, 'Ernandes': {'altura': 1.75, 'idade': 16}, 'Kill': {'altura': 1.75, 'idade': 17}, 'Caique': {'altura': 1.68, 'idade': 69}, 'Futema': {'altura': 70, 'idade': 17}}\n",
      "{'altura': 1.75, 'idade': 18}\n"
     ]
    }
   ],
   "source": [
    "dicionario = {'braguinha': {'altura': 1.75, 'idade': 18}, 'Matheus': {'altura': 1.72, 'idade': 18}, 'Ernandes': {'altura': 1.75, 'idade': 16}, 'Kill': {'altura': 1.75, 'idade': 17}, 'Caique': {'altura': 1.68, 'idade': 69}, 'Futema': {'altura': 70, 'idade': 17}}\n",
    "\n",
    "print(dicionario)\n",
    "print(dicionario['braguinha'])\n",
    "#print(dir(dicionario))"
   ]
  },
  {
   "cell_type": "code",
   "execution_count": null,
   "metadata": {},
   "outputs": [],
   "source": [
    "nomes = {}\n",
    "\n",
    "nomes['jonas'] = 'legal'\n",
    "\n",
    "print(nomes)"
   ]
  },
  {
   "cell_type": "code",
   "execution_count": 2,
   "metadata": {},
   "outputs": [
    {
     "name": "stdout",
     "output_type": "stream",
     "text": [
      "Digite seu nome: Fut\n",
      "Digite sua altura: 2\n",
      "Digite sua idade: 18\n",
      "{'Fut': {'altura': '2', 'idade': '18'}}\n"
     ]
    }
   ],
   "source": [
    "banco_de_dados = {}\n",
    "\n",
    "nome = input('Digite seu nome: ')\n",
    "altura = input('Digite sua altura: ')\n",
    "idade = input('Digite sua idade: ')\n",
    "\n",
    "banco_de_dados[nome] = {'altura': altura, 'idade': idade}\n",
    "print(banco_de_dados)"
   ]
  },
  {
   "cell_type": "code",
   "execution_count": null,
   "metadata": {},
   "outputs": [],
   "source": [
    "#conjunto = set([1, 2, 3])\n",
    "conjunto_a = {1, 2, 3}\n",
    "conjunto_b = {0, 2, 4}\n",
    "\n",
    "print(conjunto_a)\n",
    "#print(dir(conjunto))\n",
    "print(conjunto_a.union(conjunto_b))\n",
    "print(conjunto_a.intersection(conjunto_b))"
   ]
  },
  {
   "cell_type": "code",
   "execution_count": null,
   "metadata": {},
   "outputs": [],
   "source": [
    "# Faça um programa que receba uma lista de letras e tire todas as vogais (pegar as consoantes)\n",
    "\n",
    "listaletras = ['a', 'f', 't', 'o', 'p', 'e']\n",
    "conjunto_letras = set(listaletras)\n",
    "conjunto_vogais = {'a', 'e', 'i', 'o', 'u'}\n",
    "\n",
    "print(conjunto_letras - conjunto_vogais)"
   ]
  },
  {
   "cell_type": "code",
   "execution_count": null,
   "metadata": {},
   "outputs": [],
   "source": []
  }
 ],
 "metadata": {
  "kernelspec": {
   "display_name": "Python 3",
   "language": "python",
   "name": "python3"
  },
  "language_info": {
   "codemirror_mode": {
    "name": "ipython",
    "version": 3
   },
   "file_extension": ".py",
   "mimetype": "text/x-python",
   "name": "python",
   "nbconvert_exporter": "python",
   "pygments_lexer": "ipython3",
   "version": "3.7.6"
  }
 },
 "nbformat": 4,
 "nbformat_minor": 2
}

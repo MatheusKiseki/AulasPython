{
 "cells": [
  {
   "cell_type": "code",
   "execution_count": 1,
   "metadata": {},
   "outputs": [
    {
     "name": "stdout",
     "output_type": "stream",
     "text": [
      "<__main__.Pessoa object at 0x0000028FEF85C748>\n",
      "geraldo\n",
      "10\n",
      "Eae primo\n",
      "Olá meu nome é geraldo e tenho 10 aninhos\n",
      "\n",
      "<__main__.Pessoa object at 0x0000028FEF85CCC8>\n",
      "Jonas\n",
      "30\n",
      "Eae primo suave?\n",
      "Olá meu nome é Jonas e tenho 30 aninhos\n"
     ]
    }
   ],
   "source": [
    "class Pessoa:\n",
    "  def __init__(self, nome, idade):\n",
    "    self.nome = nome\n",
    "    self.idade = idade\n",
    "\n",
    "  def falar(self, texto):\n",
    "    print(texto)\n",
    "\n",
    "  def apresentar(self):\n",
    "    print('Olá meu nome é {} e tenho {} aninhos'.format(self.nome, self.idade))\n",
    "\n",
    "pessoa1 = Pessoa('geraldo', 10)\n",
    "print(pessoa1)\n",
    "print(pessoa1.nome)\n",
    "print(pessoa1.idade)\n",
    "\n",
    "pessoa1.falar('Eae primo')\n",
    "pessoa1.apresentar()\n",
    "\n",
    "print()\n",
    "\n",
    "pessoa2 = Pessoa('Jonas', 30)\n",
    "print(pessoa2)\n",
    "print(pessoa2.nome)\n",
    "print(pessoa2.idade)\n",
    "\n",
    "pessoa2.falar('Eae primo suave?')\n",
    "pessoa2.apresentar()\n"
   ]
  },
  {
   "cell_type": "code",
   "execution_count": null,
   "metadata": {},
   "outputs": [],
   "source": []
  }
 ],
 "metadata": {
  "kernelspec": {
   "display_name": "Python 3",
   "language": "python",
   "name": "python3"
  },
  "language_info": {
   "codemirror_mode": {
    "name": "ipython",
    "version": 3
   },
   "file_extension": ".py",
   "mimetype": "text/x-python",
   "name": "python",
   "nbconvert_exporter": "python",
   "pygments_lexer": "ipython3",
   "version": "3.7.6"
  }
 },
 "nbformat": 4,
 "nbformat_minor": 4
}
